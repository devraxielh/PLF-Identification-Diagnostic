{
 "cells": [
  {
   "cell_type": "code",
   "execution_count": null,
   "id": "7311b8cd",
   "metadata": {},
   "outputs": [],
   "source": []
  },
  {
   "cell_type": "code",
   "execution_count": 12,
   "id": "7371feae",
   "metadata": {},
   "outputs": [],
   "source": [
    "import numpy as np\n",
    "import matplotlib.pyplot as plt\n",
    "from mpl_toolkits.mplot3d import axes3d, Axes3D \n",
    "import skfuzzy as fuzz\n",
    "import array as arr\n",
    "import pandas as pd"
   ]
  },
  {
   "cell_type": "code",
   "execution_count": 65,
   "id": "1f3377b6",
   "metadata": {},
   "outputs": [],
   "source": [
    "def NúmeroDeGruposÓptimo (filename,maxConjuntos):\n",
    "    df = pd.read_csv(filename,keep_default_na = False,dtype = float)\n",
    "    #print(df);\n",
    "    data=np.array([df['peso_inicial'],df['peso_final'],df['edad'],df['ganancia_mensual']])\n",
    "    #data_in_file = np.loadtxt(NombreDeArchivo).T;\n",
    "    conjuntos=np.arange(2,maxConjuntos+1);\n",
    "    FP=np.zeros(np.shape(conjuntos));\n",
    "    m=2;\n",
    "    error=1e-9;\n",
    "    max_iter=200;\n",
    "    for conj in conjuntos:\n",
    "        cntr, u, u0, d, jm, p, fpc=fuzz.cmeans(data, conj, m, error, max_iter);\n",
    "        FP[conj-2]=fpc;\n",
    "    return np.argmax(FP)+2;"
   ]
  },
  {
   "cell_type": "code",
   "execution_count": 70,
   "id": "0b223df7",
   "metadata": {},
   "outputs": [
    {
     "name": "stdout",
     "output_type": "stream",
     "text": [
      "0     20.0\n",
      "1      2.0\n",
      "2     10.0\n",
      "3      4.0\n",
      "4     11.0\n",
      "5      4.0\n",
      "6     20.0\n",
      "7      4.0\n",
      "8     11.0\n",
      "9      5.0\n",
      "10    15.0\n",
      "11     4.0\n",
      "12    14.0\n",
      "13     6.0\n",
      "14    11.0\n",
      "15    13.0\n",
      "16     8.0\n",
      "17     4.0\n",
      "18    12.0\n",
      "19    12.0\n",
      "dtype: float64\n",
      "[[11.39832076 12.9826875 ]\n",
      " [ 7.45708436 17.03734247]]\n",
      "[0.61477462 0.38522538]\n"
     ]
    },
    {
     "data": {
      "image/png": "[encoded data removed]",
      "text/plain": [
       "<Figure size 432x288 with 1 Axes>"
      ]
     },
     "metadata": {
      "needs_background": "light"
     },
     "output_type": "display_data"
    }
   ],
   "source": [
    "filename = \"datos3.csv\";\n",
    "df = pd.read_csv(filename,keep_default_na = False,dtype = float)\n",
    "#print(df);\n",
    "df2 = df['peso_final'] - df['peso_inicial']\n",
    "print(df2)\n",
    "#data=np.array([df['peso_inicial'],df['peso_final'],df['edad'],df['ganancia_mensual']])\n",
    "data=np.array([df2,df['edad']])\n",
    "                          \n",
    "#print(data)\n",
    "#data_in_file =np.loadtxt(data).T\n",
    "#print(data_in_file)\n",
    "plt.title(\"Datos de prueba\");\n",
    "plt.xlabel(\"X0\");\n",
    "plt.ylabel(\"X1\");\n",
    "plt.plot(data[0],data[1],'.')\n",
    "x=np.arange(1,21);\n",
    "conjuntos=2;\n",
    "#conjuntos = NúmeroDeGruposÓptimo(filename,5);\n",
    "m=2;\n",
    "error=1e-9;\n",
    "max_iter=5;\n",
    "cntr, u, u0, d, jm, p, fpc=fuzz.cmeans(data, conjuntos, m, error, max_iter);\n",
    "print(cntr);\n",
    "print(u.T[0])\n",
    "pertenencia = pd.DataFrame(u.T,columns=['grupo1','grupo2'])\n",
    "pertenencia.to_csv('grados_pertenencia.csv',index=0)\n",
    "\n"
   ]
  },
  {
   "cell_type": "code",
   "execution_count": null,
   "id": "508a0255",
   "metadata": {},
   "outputs": [],
   "source": []
  },
  {
   "cell_type": "code",
   "execution_count": null,
   "id": "70acb60d",
   "metadata": {},
   "outputs": [],
   "source": []
  }
 ],
 "metadata": {
  "kernelspec": {
   "display_name": "Python 3 (ipykernel)",
   "language": "python",
   "name": "python3"
  },
  "language_info": {
   "codemirror_mode": {
    "name": "ipython",
    "version": 3
   },
   "file_extension": ".py",
   "mimetype": "text/x-python",
   "name": "python",
   "nbconvert_exporter": "python",
   "pygments_lexer": "ipython3",
   "version": "3.8.10"
  }
 },
 "nbformat": 4,
 "nbformat_minor": 5
}
